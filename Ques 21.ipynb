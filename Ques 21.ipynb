{
 "cells": [
  {
   "cell_type": "markdown",
   "id": "50c07805",
   "metadata": {},
   "source": [
    "# Question 21\n",
    "**In a jupyter notebook solve the following question. Please upload the notebook to GitHub and provide the link submission box below.**\n",
    "\n",
    "**__int()__: Constructor that takes as input a pair of Point objects that represent the ends points of the line segment**\n",
    "\n",
    "**Length():: returns the length if the segment**\n",
    "\n",
    "**Slope() returns the slope of the segment of none if the slope is unbounded**\n",
    "\n",
    " \n",
    "\n",
    "**>>> p1 = Point(3,4)**\n",
    "\n",
    "**>>> p2 = Point()**\n",
    "\n",
    "**>>> s = Segment(p1,p2)**\n",
    "\n",
    "**>>> s.length()**\n",
    "\n",
    "**5.0**\n",
    "\n",
    "**>>> s.slope()**\n",
    "\n",
    "**0.75**"
   ]
  },
  {
   "cell_type": "code",
   "execution_count": 1,
   "id": "c610eb1d",
   "metadata": {},
   "outputs": [],
   "source": [
    "import math\n",
    "\n",
    "class Point:\n",
    "    def __init__(self, x_coordinate=0, y_coordinate=0):\n",
    "        self.x_coordinate = x_coordinate\n",
    "        self.y_coordinate = y_coordinate\n",
    "\n",
    "class Segment:\n",
    "    def __init__(self, start_point=None, end_point=None):\n",
    "        self.start_point = start_point if start_point else Point()  # Default to Point() if start_point is None\n",
    "        self.end_point = end_point if end_point else Point()  # Default to Point() if end_point is None\n",
    "    \n",
    "    def calculate_length(self):\n",
    "        # Calculate and return the length of the line segment using the Euclidean distance formula\n",
    "        length = math.sqrt((self.end_point.x_coordinate - self.start_point.x_coordinate)**2 +\n",
    "                           (self.end_point.y_coordinate - self.start_point.y_coordinate)**2)\n",
    "        return length\n",
    "    \n",
    "    def calculate_slope(self):\n",
    "        # Calculate and return the slope of the line segment\n",
    "        if self.end_point.x_coordinate - self.start_point.x_coordinate != 0:\n",
    "            slope = (self.end_point.x_coordinate - self.start_point.x_coordinate)/(self.end_point.y_coordinate - self.start_point.y_coordinate) \n",
    "            return slope\n",
    "        else:\n",
    "            return None  \n",
    "\n",
    "    \n"
   ]
  },
  {
   "cell_type": "code",
   "execution_count": 2,
   "id": "86fa51a8",
   "metadata": {},
   "outputs": [
    {
     "name": "stdout",
     "output_type": "stream",
     "text": [
      "Enter 1st coordinates of the Point1: 3\n",
      "Enter 2nd coordinates of the Point1: 4\n",
      "Enter 1st coordinates of the Point2: \n",
      "Enter 2nd coordinates of the Point2: \n",
      "Length of the line segment: 5.0\n",
      "Slope of the line segment: 0.75\n"
     ]
    }
   ],
   "source": [
    "p11=input(f'Enter 1st coordinates of the Point1: ')\n",
    "p12=input(f'Enter 2nd coordinates of the Point1: ')\n",
    "p21=input(f'Enter 1st coordinates of the Point2: ')\n",
    "p22=input(f'Enter 2nd coordinates of the Point2: ')\n",
    "\n",
    "p11 = float(p11) if p11 else 0  # Checking if user entered something, if not then assigning 0 to avoid exception.\n",
    "p12 = float(p12) if p12 else 0\n",
    "p21 = float(p21) if p21 else 0\n",
    "p22 = float(p22) if p22 else 0\n",
    "\n",
    "p1 = Point(p11, p12)      # Create Point start_point at (3, 4)\n",
    "p2 = Point(p21,p22)       # Create Point end_point at the default (0, 0)\n",
    "\n",
    "s = Segment(p1, p2) \n",
    "\n",
    "print(\"Length of the line segment:\", s.calculate_length())\n",
    "print(\"Slope of the line segment:\", s.calculate_slope())"
   ]
  },
  {
   "cell_type": "code",
   "execution_count": null,
   "id": "27b46f19",
   "metadata": {},
   "outputs": [],
   "source": []
  }
 ],
 "metadata": {
  "kernelspec": {
   "display_name": "Python 3 (ipykernel)",
   "language": "python",
   "name": "python3"
  },
  "language_info": {
   "codemirror_mode": {
    "name": "ipython",
    "version": 3
   },
   "file_extension": ".py",
   "mimetype": "text/x-python",
   "name": "python",
   "nbconvert_exporter": "python",
   "pygments_lexer": "ipython3",
   "version": "3.11.5"
  }
 },
 "nbformat": 4,
 "nbformat_minor": 5
}
