{
 "cells": [
  {
   "cell_type": "markdown",
   "id": "3f23a112",
   "metadata": {},
   "source": [
    "# Question 22"
   ]
  },
  {
   "cell_type": "markdown",
   "id": "449c029f",
   "metadata": {},
   "source": [
    "\n",
    "**In a jupyter notebook solve the following question using both python and SQL. Please upload the notebook to GitHub and provide the link submission box below.**\n",
    "\n",
    "\n"
   ]
  },
  {
   "cell_type": "raw",
   "id": "69a45dd1",
   "metadata": {},
   "source": [
    "\n",
    "+---------------+---------+\n",
    "| Column Name   | Type    |\n",
    "+---------------+---------+\n",
    "| id            | int     |\n",
    "| recordDate    | date    |\n",
    "| temperature   | int     |\n",
    "+---------------+---------+"
   ]
  },
  {
   "cell_type": "markdown",
   "id": "ff150693",
   "metadata": {},
   "source": [
    "**id is the column with unique values for this table.\n",
    "This table contains information about the temperature on a certain day.\n",
    "Write a solution to find all dates' Id with higher temperatures compared to its previous dates (yesterday).**\n",
    "\n",
    "**Return the result table in any order.**\n",
    "\n",
    "**Please use the following input Weather table for your solution. To receive full marks you will need to create the database, create the table, insert the data below and execute the SQL query.**\n"
   ]
  },
  {
   "cell_type": "raw",
   "id": "11fce86a",
   "metadata": {},
   "source": [
    " Input: \n",
    "Weather table:\n",
    "+----+------------+-------------+\n",
    "| id | recordDate | temperature |\n",
    "+----+------------+-------------+\n",
    "| 1  | 2015-01-01 | 10          |\n",
    "| 2  | 2015-01-02 | 25          |\n",
    "| 3  | 2015-01-03 | 20          |\n",
    "| 4  | 2015-01-04 | 30          |\n",
    "+----+------------+-------------+\n",
    "Output: \n",
    "+----+\n",
    "| id |\n",
    "+----+\n",
    "| 2  |\n",
    "| 4  |\n",
    "+----+\n",
    "Explanation: \n",
    "In 2015-01-02, the temperature was higher than the previous day (10 -> 25).\n",
    "In 2015-01-04, the temperature was higher than the previous day (20 -> 30)."
   ]
  },
  {
   "cell_type": "code",
   "execution_count": 1,
   "id": "1d49bfae",
   "metadata": {},
   "outputs": [],
   "source": [
    "import sqlite3\n",
    "from datetime import date\n",
    "\n",
    "# weather data\n",
    "weather_samples = [\n",
    "    (1, '2015-01-01', 10),\n",
    "    (2, '2015-01-02', 25),\n",
    "    (3, '2015-01-03', 20),\n",
    "    (4, '2015-01-04', 30)\n",
    "]"
   ]
  },
  {
   "cell_type": "code",
   "execution_count": 2,
   "id": "07c23846",
   "metadata": {},
   "outputs": [],
   "source": [
    "# Function to initialize SQLite database and insert sample data\n",
    "def initialize_weather_database():\n",
    "    connection = sqlite3.connect('weather123.db')\n",
    "    cursor = connection.cursor()\n",
    "\n",
    "    # Create Weather table\n",
    "    cursor.execute('''\n",
    "        CREATE TABLE IF NOT EXISTS Weather (\n",
    "            id INTEGER PRIMARY KEY,\n",
    "            recordDate DATE,\n",
    "            temperature INTEGER\n",
    "        )\n",
    "    ''')\n",
    "\n",
    "    # Insert data into Weather table\n",
    "    cursor.executemany('''\n",
    "        INSERT INTO Weather (id, recordDate, temperature) \n",
    "        VALUES (?, ?, ?)\n",
    "    ''', weather_samples)\n",
    "\n",
    "    # Commit changes and close connection\n",
    "    connection.commit()\n",
    "    connection.close()"
   ]
  },
  {
   "cell_type": "code",
   "execution_count": 3,
   "id": "8e5d7f8c",
   "metadata": {},
   "outputs": [],
   "source": [
    "# Define the SQL query for temperature\n",
    "temperature_increase_query = \"\"\"\n",
    "    SELECT current_day.id\n",
    "    FROM Weather current_day\n",
    "    JOIN Weather previous_day ON DATE(current_day.recordDate, '-1 day') = previous_day.recordDate\n",
    "    WHERE current_day.temperature > previous_day.temperature\n",
    "\"\"\""
   ]
  },
  {
   "cell_type": "code",
   "execution_count": 4,
   "id": "857d24ec",
   "metadata": {},
   "outputs": [],
   "source": [
    "# Function to fetch IDs of days with higher temperature compared to previous day\n",
    "def fetch_days_with_higher_temperature():\n",
    "    # Connect to the SQLite database\n",
    "    connection = sqlite3.connect('weather123.db')\n",
    "    cursor = connection.cursor()\n",
    "\n",
    "    # Execute the SQL query\n",
    "    cursor.execute(temperature_increase_query)\n",
    "\n",
    "    # Fetch all results\n",
    "    result_ids = cursor.fetchall()\n",
    "\n",
    "    # Close cursor and connection\n",
    "    cursor.close()\n",
    "    connection.close()\n",
    "\n",
    "    return result_ids"
   ]
  },
  {
   "cell_type": "code",
   "execution_count": 5,
   "id": "bf01b640",
   "metadata": {},
   "outputs": [
    {
     "name": "stdout",
     "output_type": "stream",
     "text": [
      "Output:\n",
      "+----+\n",
      "| id |\n",
      "+----+\n",
      "| 2 |\n",
      "| 4 |\n",
      "+----+\n"
     ]
    }
   ],
   "source": [
    "# Initialize the weather database with data\n",
    "initialize_weather_database()\n",
    "\n",
    "# Fetch the results\n",
    "result_ids = fetch_days_with_higher_temperature()\n",
    "\n",
    "# Print the results in table format\n",
    "print(\"Output:\")\n",
    "print(\"+----+\")\n",
    "print(\"| id |\")\n",
    "print(\"+----+\")\n",
    "for result in result_ids:\n",
    "    print(f\"| {result[0]} |\")\n",
    "print(\"+----+\")\n"
   ]
  },
  {
   "cell_type": "code",
   "execution_count": null,
   "id": "7e58c794",
   "metadata": {},
   "outputs": [],
   "source": []
  }
 ],
 "metadata": {
  "kernelspec": {
   "display_name": "Python 3 (ipykernel)",
   "language": "python",
   "name": "python3"
  },
  "language_info": {
   "codemirror_mode": {
    "name": "ipython",
    "version": 3
   },
   "file_extension": ".py",
   "mimetype": "text/x-python",
   "name": "python",
   "nbconvert_exporter": "python",
   "pygments_lexer": "ipython3",
   "version": "3.11.5"
  }
 },
 "nbformat": 4,
 "nbformat_minor": 5
}
