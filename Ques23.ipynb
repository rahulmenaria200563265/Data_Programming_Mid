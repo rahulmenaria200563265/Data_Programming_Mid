{
 "cells": [
  {
   "cell_type": "markdown",
   "id": "ac0f176d",
   "metadata": {},
   "source": [
    "# Question 23\n",
    "**In a jupyter notebook solve the following question using python. Please upload the notebook to GitHub and provide the link submission box below.**\n",
    "\n",
    "**Develop a recursive function tough() that takes two nonnegative integer arguments and outputs a pattern as shown below.**\n",
    "\n",
    "Hint: The first argument represents the indentation of the pattern, where the second argument -- always a pattern of 2 indicates the number *s in the longest line of *s in the pattern.\n",
    "\n"
   ]
  },
  {
   "cell_type": "code",
   "execution_count": 1,
   "id": "12389b6e",
   "metadata": {},
   "outputs": [],
   "source": [
    "def draw_star_pattern(indentation_level, segment_length):\n",
    "    if segment_length > 0:\n",
    "        draw_star_pattern(indentation_level, segment_length // 2)\n",
    "        print(\" \" * indentation_level + \"*\" * segment_length)\n",
    "        draw_star_pattern(indentation_level + segment_length // 2, segment_length // 2)"
   ]
  },
  {
   "cell_type": "code",
   "execution_count": 2,
   "id": "1e4a1a56",
   "metadata": {},
   "outputs": [],
   "source": [
    "draw_star_pattern(0,0)"
   ]
  },
  {
   "cell_type": "code",
   "execution_count": 3,
   "id": "77788041",
   "metadata": {},
   "outputs": [
    {
     "name": "stdout",
     "output_type": "stream",
     "text": [
      "*\n"
     ]
    }
   ],
   "source": [
    "draw_star_pattern(0,1)"
   ]
  },
  {
   "cell_type": "code",
   "execution_count": 4,
   "id": "4ba4bed7",
   "metadata": {},
   "outputs": [
    {
     "name": "stdout",
     "output_type": "stream",
     "text": [
      "*\n",
      "**\n",
      " *\n"
     ]
    }
   ],
   "source": [
    "draw_star_pattern(0,2)"
   ]
  },
  {
   "cell_type": "code",
   "execution_count": 5,
   "id": "7ff25bf4",
   "metadata": {},
   "outputs": [
    {
     "name": "stdout",
     "output_type": "stream",
     "text": [
      "*\n",
      "**\n",
      " *\n",
      "****\n",
      "  *\n",
      "  **\n",
      "   *\n"
     ]
    }
   ],
   "source": [
    "draw_star_pattern(0,4)"
   ]
  }
 ],
 "metadata": {
  "kernelspec": {
   "display_name": "Python 3 (ipykernel)",
   "language": "python",
   "name": "python3"
  },
  "language_info": {
   "codemirror_mode": {
    "name": "ipython",
    "version": 3
   },
   "file_extension": ".py",
   "mimetype": "text/x-python",
   "name": "python",
   "nbconvert_exporter": "python",
   "pygments_lexer": "ipython3",
   "version": "3.11.5"
  }
 },
 "nbformat": 4,
 "nbformat_minor": 5
}
